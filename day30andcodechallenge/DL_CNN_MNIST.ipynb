{
  "nbformat": 4,
  "nbformat_minor": 0,
  "metadata": {
    "colab": {
      "name": "DL_CNN_MNIST.ipynb",
      "version": "0.3.2",
      "provenance": [],
      "collapsed_sections": []
    },
    "kernelspec": {
      "name": "python2",
      "display_name": "Python 2"
    },
    "accelerator": "GPU"
  },
  "cells": [
    {
      "cell_type": "markdown",
      "metadata": {
        "id": "vLYJJwvvVsd5",
        "colab_type": "text"
      },
      "source": [
        "https://blog.paperspace.com/intro-to-optimization-momentum-rmsprop-adam/"
      ]
    },
    {
      "cell_type": "code",
      "metadata": {
        "id": "De122ZUSvwUb",
        "colab_type": "code",
        "colab": {}
      },
      "source": [
        "import keras"
      ],
      "execution_count": 0,
      "outputs": []
    },
    {
      "cell_type": "code",
      "metadata": {
        "id": "6R7E8eHOwqeC",
        "colab_type": "code",
        "colab": {}
      },
      "source": [
        "#model.summary()"
      ],
      "execution_count": 0,
      "outputs": []
    },
    {
      "cell_type": "code",
      "metadata": {
        "id": "G6_UUymjLxeM",
        "colab_type": "code",
        "colab": {}
      },
      "source": [
        "from keras.datasets import mnist\n",
        "from keras.utils import to_categorical\n",
        "\n",
        "(train_images, train_labels), (test_images, test_labels) = mnist.load_data()"
      ],
      "execution_count": 0,
      "outputs": []
    },
    {
      "cell_type": "code",
      "metadata": {
        "id": "7Hj59OzVvvhD",
        "colab_type": "code",
        "outputId": "6cf08c70-3945-4b3f-d533-d45df12c7565",
        "colab": {
          "base_uri": "https://localhost:8080/",
          "height": 35
        }
      },
      "source": [
        "train_images.shape"
      ],
      "execution_count": 20,
      "outputs": [
        {
          "output_type": "execute_result",
          "data": {
            "text/plain": [
              "(60000, 28, 28)"
            ]
          },
          "metadata": {
            "tags": []
          },
          "execution_count": 20
        }
      ]
    },
    {
      "cell_type": "code",
      "metadata": {
        "id": "LnlVpprJLzYK",
        "colab_type": "code",
        "outputId": "5ee31055-87f9-4303-a1c6-f09c01fec842",
        "colab": {
          "base_uri": "https://localhost:8080/",
          "height": 35
        }
      },
      "source": [
        "train_images[0].shape\n",
        "\n"
      ],
      "execution_count": 21,
      "outputs": [
        {
          "output_type": "execute_result",
          "data": {
            "text/plain": [
              "(28, 28)"
            ]
          },
          "metadata": {
            "tags": []
          },
          "execution_count": 21
        }
      ]
    },
    {
      "cell_type": "code",
      "metadata": {
        "id": "E9p5JMcWFX4M",
        "colab_type": "code",
        "colab": {}
      },
      "source": [
        "train_images[0]"
      ],
      "execution_count": 0,
      "outputs": []
    },
    {
      "cell_type": "code",
      "metadata": {
        "id": "G5Mmz1ydwsxf",
        "colab_type": "code",
        "colab": {
          "base_uri": "https://localhost:8080/",
          "height": 35
        },
        "outputId": "031c2221-3af2-41cd-8dd7-46b0a78e7da3"
      },
      "source": [
        "train_labels[0]"
      ],
      "execution_count": 23,
      "outputs": [
        {
          "output_type": "execute_result",
          "data": {
            "text/plain": [
              "5"
            ]
          },
          "metadata": {
            "tags": []
          },
          "execution_count": 23
        }
      ]
    },
    {
      "cell_type": "code",
      "metadata": {
        "id": "Nbq05p7ZMY1F",
        "colab_type": "code",
        "colab": {}
      },
      "source": [
        "train_images = train_images.reshape((60000, 28, 28, 1))"
      ],
      "execution_count": 0,
      "outputs": []
    },
    {
      "cell_type": "code",
      "metadata": {
        "id": "ZVV55IryMas3",
        "colab_type": "code",
        "outputId": "bad483e1-71bb-495c-d55f-1c3e3a9555c4",
        "colab": {
          "base_uri": "https://localhost:8080/",
          "height": 35
        }
      },
      "source": [
        "train_images.shape"
      ],
      "execution_count": 25,
      "outputs": [
        {
          "output_type": "execute_result",
          "data": {
            "text/plain": [
              "(60000, 28, 28, 1)"
            ]
          },
          "metadata": {
            "tags": []
          },
          "execution_count": 25
        }
      ]
    },
    {
      "cell_type": "code",
      "metadata": {
        "id": "Rp59rSXBMrNm",
        "colab_type": "code",
        "colab": {}
      },
      "source": [
        "test_labels[0]"
      ],
      "execution_count": 0,
      "outputs": []
    },
    {
      "cell_type": "code",
      "metadata": {
        "id": "E2uj_jJhNXIJ",
        "colab_type": "code",
        "colab": {}
      },
      "source": [
        "train_images = train_images.astype('float32') / 255\n",
        "\n",
        "test_images = test_images.reshape((10000, 28, 28, 1))\n",
        "test_images = test_images.astype('float32') / 255"
      ],
      "execution_count": 0,
      "outputs": []
    },
    {
      "cell_type": "code",
      "metadata": {
        "id": "6XAg4fqsN8q0",
        "colab_type": "code",
        "colab": {}
      },
      "source": [
        "train_images[0]\n"
      ],
      "execution_count": 0,
      "outputs": []
    },
    {
      "cell_type": "code",
      "metadata": {
        "id": "p9kDKxKUSJGE",
        "colab_type": "code",
        "outputId": "e9f4ed74-b256-4df9-d0ce-5aaf703ba9c6",
        "colab": {
          "base_uri": "https://localhost:8080/",
          "height": 35
        }
      },
      "source": [
        "train_labels[0]"
      ],
      "execution_count": 28,
      "outputs": [
        {
          "output_type": "execute_result",
          "data": {
            "text/plain": [
              "5"
            ]
          },
          "metadata": {
            "tags": []
          },
          "execution_count": 28
        }
      ]
    },
    {
      "cell_type": "code",
      "metadata": {
        "id": "68sQaDktw3N_",
        "colab_type": "code",
        "colab": {}
      },
      "source": [
        "train_labels = to_categorical(train_labels)\n",
        "test_labels = to_categorical(test_labels)"
      ],
      "execution_count": 0,
      "outputs": []
    },
    {
      "cell_type": "code",
      "metadata": {
        "id": "-rzo1bxlybn8",
        "colab_type": "code",
        "outputId": "e1b16d52-688c-4bac-a777-cdbb70142354",
        "colab": {
          "base_uri": "https://localhost:8080/",
          "height": 35
        }
      },
      "source": [
        "train_labels[0]"
      ],
      "execution_count": 31,
      "outputs": [
        {
          "output_type": "execute_result",
          "data": {
            "text/plain": [
              "array([0., 0., 0., 0., 0., 1., 0., 0., 0., 0.], dtype=float32)"
            ]
          },
          "metadata": {
            "tags": []
          },
          "execution_count": 31
        }
      ]
    },
    {
      "cell_type": "code",
      "metadata": {
        "id": "HhPXHnbJOTzC",
        "colab_type": "code",
        "outputId": "b1cf8bbd-5bff-41ea-d8eb-68ace72234cd",
        "colab": {
          "base_uri": "https://localhost:8080/",
          "height": 35
        }
      },
      "source": [
        "print train_labels.shape"
      ],
      "execution_count": 32,
      "outputs": [
        {
          "output_type": "stream",
          "text": [
            "(60000, 10)\n"
          ],
          "name": "stdout"
        }
      ]
    },
    {
      "cell_type": "code",
      "metadata": {
        "id": "dKuBcHXsLucj",
        "colab_type": "code",
        "colab": {}
      },
      "source": [
        ""
      ],
      "execution_count": 0,
      "outputs": []
    },
    {
      "cell_type": "code",
      "metadata": {
        "id": "Ka06tftP8OKN",
        "colab_type": "code",
        "colab": {}
      },
      "source": [
        ""
      ],
      "execution_count": 0,
      "outputs": []
    },
    {
      "cell_type": "code",
      "metadata": {
        "id": "PexwW2SnweE5",
        "colab_type": "code",
        "colab": {}
      },
      "source": [
        "from keras import layers\n",
        "from keras import models\n",
        "\n",
        "model = models.Sequential()\n",
        "model.add(layers.Conv2D(32, (3, 3), activation='relu', input_shape=(28, 28, 1)))\n",
        "model.add(layers.MaxPooling2D((2, 2)))\n",
        "model.add(layers.Conv2D(16, (5,5), activation = \"relu\"))\n",
        "model.add(layers.MaxPooling2D((2, 2)))\n",
        "\n"
      ],
      "execution_count": 0,
      "outputs": []
    },
    {
      "cell_type": "code",
      "metadata": {
        "id": "9N8jYB4r8Pe5",
        "colab_type": "code",
        "colab": {}
      },
      "source": [
        ""
      ],
      "execution_count": 0,
      "outputs": []
    },
    {
      "cell_type": "code",
      "metadata": {
        "id": "ZZr7DFpXws_Y",
        "colab_type": "code",
        "colab": {}
      },
      "source": [
        "model.add(layers.Flatten())\n",
        "\n",
        "model.add(layers.Dense(64, activation='relu'))\n",
        "model.add(layers.Dense(10, activation='softmax'))"
      ],
      "execution_count": 0,
      "outputs": []
    },
    {
      "cell_type": "code",
      "metadata": {
        "id": "61Fkvnk8xEWX",
        "colab_type": "code",
        "outputId": "35fb0a1c-7e21-42a1-d421-85c0e8296494",
        "colab": {
          "base_uri": "https://localhost:8080/",
          "height": 1693
        }
      },
      "source": [
        "\n",
        "model.compile(optimizer='rmsprop',\n",
        "              loss='categorical_crossentropy',\n",
        "              metrics=['accuracy'])\n",
        "model.fit(train_images, train_labels, epochs=50, batch_size=64)"
      ],
      "execution_count": 35,
      "outputs": [
        {
          "output_type": "stream",
          "text": [
            "Epoch 1/50\n",
            "60000/60000 [==============================] - 4s 73us/step - loss: 0.2177 - acc: 0.9344\n",
            "Epoch 2/50\n",
            "60000/60000 [==============================] - 4s 69us/step - loss: 0.0688 - acc: 0.9790\n",
            "Epoch 3/50\n",
            "60000/60000 [==============================] - 4s 69us/step - loss: 0.0493 - acc: 0.9845\n",
            "Epoch 4/50\n",
            "60000/60000 [==============================] - 4s 68us/step - loss: 0.0377 - acc: 0.9881\n",
            "Epoch 5/50\n",
            "60000/60000 [==============================] - 4s 70us/step - loss: 0.0309 - acc: 0.9902\n",
            "Epoch 6/50\n",
            "60000/60000 [==============================] - 4s 68us/step - loss: 0.0264 - acc: 0.9920\n",
            "Epoch 7/50\n",
            "60000/60000 [==============================] - 4s 68us/step - loss: 0.0223 - acc: 0.9931\n",
            "Epoch 8/50\n",
            "60000/60000 [==============================] - 4s 68us/step - loss: 0.0189 - acc: 0.9943\n",
            "Epoch 9/50\n",
            "60000/60000 [==============================] - 4s 68us/step - loss: 0.0171 - acc: 0.9949\n",
            "Epoch 10/50\n",
            "60000/60000 [==============================] - 4s 68us/step - loss: 0.0150 - acc: 0.9955\n",
            "Epoch 11/50\n",
            "60000/60000 [==============================] - 4s 69us/step - loss: 0.0139 - acc: 0.9957\n",
            "Epoch 12/50\n",
            "60000/60000 [==============================] - 4s 67us/step - loss: 0.0092 - acc: 0.9970\n",
            "Epoch 15/50\n",
            "60000/60000 [==============================] - 4s 67us/step - loss: 0.0084 - acc: 0.9975\n",
            "Epoch 16/50\n",
            "60000/60000 [==============================] - 4s 67us/step - loss: 0.0082 - acc: 0.9974\n",
            "Epoch 17/50\n",
            "60000/60000 [==============================] - 4s 67us/step - loss: 0.0067 - acc: 0.9979\n",
            "Epoch 18/50\n",
            "60000/60000 [==============================] - 4s 66us/step - loss: 0.0063 - acc: 0.9978\n",
            "Epoch 19/50\n",
            "60000/60000 [==============================] - 4s 68us/step - loss: 0.0055 - acc: 0.9981\n",
            "Epoch 20/50\n",
            "60000/60000 [==============================] - 4s 69us/step - loss: 0.0053 - acc: 0.9985\n",
            "Epoch 21/50\n",
            "60000/60000 [==============================] - 4s 68us/step - loss: 0.0049 - acc: 0.9985\n",
            "Epoch 22/50\n",
            "60000/60000 [==============================] - 4s 68us/step - loss: 0.0045 - acc: 0.9987\n",
            "Epoch 23/50\n",
            "60000/60000 [==============================] - 4s 66us/step - loss: 0.0041 - acc: 0.9986\n",
            "Epoch 24/50\n",
            "60000/60000 [==============================] - 4s 67us/step - loss: 0.0036 - acc: 0.9988\n",
            "Epoch 25/50\n",
            "60000/60000 [==============================] - 4s 66us/step - loss: 0.0030 - acc: 0.9989\n",
            "Epoch 26/50\n",
            "60000/60000 [==============================] - 4s 66us/step - loss: 0.0030 - acc: 0.9990\n",
            "Epoch 27/50\n",
            "60000/60000 [==============================] - 4s 67us/step - loss: 0.0032 - acc: 0.9990\n",
            "Epoch 28/50\n",
            "60000/60000 [==============================] - 4s 67us/step - loss: 0.0027 - acc: 0.9992\n",
            "Epoch 29/50\n",
            "60000/60000 [==============================] - 4s 67us/step - loss: 0.0030 - acc: 0.9992\n",
            "Epoch 30/50\n",
            "60000/60000 [==============================] - 4s 67us/step - loss: 0.0027 - acc: 0.9992\n",
            "Epoch 31/50\n",
            "60000/60000 [==============================] - 4s 65us/step - loss: 0.0030 - acc: 0.9990\n",
            "Epoch 32/50\n",
            "60000/60000 [==============================] - 4s 66us/step - loss: 0.0022 - acc: 0.9993\n",
            "Epoch 33/50\n",
            "60000/60000 [==============================] - 4s 66us/step - loss: 0.0024 - acc: 0.9993\n",
            "Epoch 34/50\n",
            "60000/60000 [==============================] - 4s 67us/step - loss: 0.0021 - acc: 0.9994\n",
            "Epoch 35/50\n",
            "60000/60000 [==============================] - 4s 70us/step - loss: 0.0024 - acc: 0.9994\n",
            "Epoch 36/50\n",
            "60000/60000 [==============================] - 4s 70us/step - loss: 0.0018 - acc: 0.9995\n",
            "Epoch 37/50\n",
            "60000/60000 [==============================] - 4s 66us/step - loss: 0.0016 - acc: 0.9995\n",
            "Epoch 38/50\n",
            "60000/60000 [==============================] - 4s 65us/step - loss: 0.0016 - acc: 0.9995\n",
            "Epoch 39/50\n",
            "60000/60000 [==============================] - 4s 66us/step - loss: 0.0020 - acc: 0.9996\n",
            "Epoch 40/50\n",
            "60000/60000 [==============================] - 4s 66us/step - loss: 0.0020 - acc: 0.9994\n",
            "Epoch 41/50\n",
            "60000/60000 [==============================] - 4s 66us/step - loss: 0.0020 - acc: 0.9994\n",
            "Epoch 42/50\n",
            "60000/60000 [==============================] - 4s 65us/step - loss: 0.0024 - acc: 0.9995\n",
            "Epoch 43/50\n",
            "60000/60000 [==============================] - 4s 65us/step - loss: 0.0017 - acc: 0.9995\n",
            "Epoch 44/50\n",
            "60000/60000 [==============================] - 4s 64us/step - loss: 0.0015 - acc: 0.9995\n",
            "Epoch 45/50\n",
            "60000/60000 [==============================] - 4s 64us/step - loss: 0.0016 - acc: 0.9995\n",
            "Epoch 46/50\n",
            "60000/60000 [==============================] - 4s 64us/step - loss: 0.0013 - acc: 0.9997\n",
            "Epoch 47/50\n",
            "60000/60000 [==============================] - 4s 65us/step - loss: 0.0017 - acc: 0.9996\n",
            "Epoch 48/50\n",
            "60000/60000 [==============================] - 4s 64us/step - loss: 0.0014 - acc: 0.9997\n",
            "Epoch 49/50\n",
            "60000/60000 [==============================] - 4s 66us/step - loss: 0.0011 - acc: 0.9997\n",
            "Epoch 50/50\n",
            "60000/60000 [==============================] - 4s 67us/step - loss: 0.0013 - acc: 0.9997\n"
          ],
          "name": "stdout"
        },
        {
          "output_type": "execute_result",
          "data": {
            "text/plain": [
              "<keras.callbacks.History at 0x7f1037dc1ad0>"
            ]
          },
          "metadata": {
            "tags": []
          },
          "execution_count": 35
        }
      ]
    },
    {
      "cell_type": "code",
      "metadata": {
        "id": "wSvAUCPCxMY_",
        "colab_type": "code",
        "outputId": "77ab4731-58bf-43cf-f3e8-1eba339e4d06",
        "colab": {
          "base_uri": "https://localhost:8080/",
          "height": 35
        }
      },
      "source": [
        "test_loss, test_acc = model.evaluate(test_images, test_labels)"
      ],
      "execution_count": 36,
      "outputs": [
        {
          "output_type": "stream",
          "text": [
            "10000/10000 [==============================] - 1s 55us/step\n"
          ],
          "name": "stdout"
        }
      ]
    },
    {
      "cell_type": "code",
      "metadata": {
        "id": "xJE1HgTJUm5a",
        "colab_type": "code",
        "colab": {}
      },
      "source": [
        "test_images[0].shape"
      ],
      "execution_count": 0,
      "outputs": []
    },
    {
      "cell_type": "code",
      "metadata": {
        "id": "_OOJnYxhxdmI",
        "colab_type": "code",
        "outputId": "6298ca8f-d7a7-4f32-fc63-f541d7c6b3fa",
        "colab": {
          "base_uri": "https://localhost:8080/",
          "height": 35
        }
      },
      "source": [
        "test_acc\n"
      ],
      "execution_count": 37,
      "outputs": [
        {
          "output_type": "execute_result",
          "data": {
            "text/plain": [
              "0.9891"
            ]
          },
          "metadata": {
            "tags": []
          },
          "execution_count": 37
        }
      ]
    },
    {
      "cell_type": "code",
      "metadata": {
        "id": "awzOVpgexm03",
        "colab_type": "code",
        "colab": {}
      },
      "source": [
        "model.layers"
      ],
      "execution_count": 0,
      "outputs": []
    },
    {
      "cell_type": "code",
      "metadata": {
        "id": "wSCy3rhu_JGG",
        "colab_type": "code",
        "colab": {}
      },
      "source": [
        "train_images[0].shape"
      ],
      "execution_count": 0,
      "outputs": []
    },
    {
      "cell_type": "code",
      "metadata": {
        "id": "ZEiyWAGh_Sno",
        "colab_type": "code",
        "colab": {}
      },
      "source": [
        "type(train_images)"
      ],
      "execution_count": 0,
      "outputs": []
    },
    {
      "cell_type": "code",
      "metadata": {
        "id": "2xHK7ycn_Msu",
        "colab_type": "code",
        "colab": {}
      },
      "source": [
        "test_data = train_images[10].reshape(1,28,28,1)"
      ],
      "execution_count": 0,
      "outputs": []
    },
    {
      "cell_type": "code",
      "metadata": {
        "id": "Fi-TUIFFO39X",
        "colab_type": "code",
        "colab": {}
      },
      "source": [
        "test_data.shape"
      ],
      "execution_count": 0,
      "outputs": []
    },
    {
      "cell_type": "code",
      "metadata": {
        "id": "slmT-ohN-CaL",
        "colab_type": "code",
        "colab": {}
      },
      "source": [
        "prediction = model.predict(test_data)"
      ],
      "execution_count": 0,
      "outputs": []
    },
    {
      "cell_type": "code",
      "metadata": {
        "id": "-XwKehbYNa4_",
        "colab_type": "code",
        "outputId": "9ed0a3c5-b302-4072-a63a-6516e1d54916",
        "colab": {
          "base_uri": "https://localhost:8080/",
          "height": 69
        }
      },
      "source": [
        "prediction"
      ],
      "execution_count": 40,
      "outputs": [
        {
          "output_type": "execute_result",
          "data": {
            "text/plain": [
              "array([[0.0000000e+00, 9.5116527e-30, 1.1846804e-35, 1.0000000e+00,\n",
              "        0.0000000e+00, 3.9348881e-19, 0.0000000e+00, 3.9886877e-35,\n",
              "        5.8404606e-28, 3.2317191e-25]], dtype=float32)"
            ]
          },
          "metadata": {
            "tags": []
          },
          "execution_count": 40
        }
      ]
    },
    {
      "cell_type": "markdown",
      "metadata": {
        "id": "U7AHqYTuBiGY",
        "colab_type": "text"
      },
      "source": [
        "Set axis=-1 means, extract largest indices in each row. Here we have only one row."
      ]
    },
    {
      "cell_type": "code",
      "metadata": {
        "id": "mq3XKgN_NqIU",
        "colab_type": "code",
        "colab": {}
      },
      "source": [
        "import numpy as np"
      ],
      "execution_count": 0,
      "outputs": []
    },
    {
      "cell_type": "code",
      "metadata": {
        "id": "h8M4f96CBJfb",
        "colab_type": "code",
        "colab": {}
      },
      "source": [
        "y = np.argmax(prediction, axis=-1)"
      ],
      "execution_count": 0,
      "outputs": []
    },
    {
      "cell_type": "code",
      "metadata": {
        "id": "KACrITUfBNHJ",
        "colab_type": "code",
        "outputId": "f867efdc-4363-44e1-c020-444506c4f52f",
        "colab": {
          "base_uri": "https://localhost:8080/",
          "height": 35
        }
      },
      "source": [
        "y"
      ],
      "execution_count": 43,
      "outputs": [
        {
          "output_type": "execute_result",
          "data": {
            "text/plain": [
              "array([3])"
            ]
          },
          "metadata": {
            "tags": []
          },
          "execution_count": 43
        }
      ]
    },
    {
      "cell_type": "code",
      "metadata": {
        "id": "3hjWcLKKBQ6u",
        "colab_type": "code",
        "outputId": "b096a864-5fb0-4421-e80b-185efb9a451c",
        "colab": {
          "base_uri": "https://localhost:8080/",
          "height": 35
        }
      },
      "source": [
        "train_labels[10]"
      ],
      "execution_count": 44,
      "outputs": [
        {
          "output_type": "execute_result",
          "data": {
            "text/plain": [
              "array([0., 0., 0., 1., 0., 0., 0., 0., 0., 0.], dtype=float32)"
            ]
          },
          "metadata": {
            "tags": []
          },
          "execution_count": 44
        }
      ]
    },
    {
      "cell_type": "markdown",
      "metadata": {
        "id": "JtYy2_8NB4QW",
        "colab_type": "text"
      },
      "source": [
        "Code challenge \n",
        "https://medium.com/coinmonks/handwritten-digit-prediction-using-convolutional-neural-networks-in-tensorflow-with-keras-and-live-5ebddf46dc8"
      ]
    },
    {
      "cell_type": "code",
      "metadata": {
        "id": "ZQgEYBuAQlps",
        "colab_type": "code",
        "colab": {}
      },
      "source": [
        "test_images.shape"
      ],
      "execution_count": 0,
      "outputs": []
    },
    {
      "cell_type": "code",
      "metadata": {
        "id": "E4YLYFE-Qc_3",
        "colab_type": "code",
        "colab": {}
      },
      "source": [
        "test_data = test_images"
      ],
      "execution_count": 0,
      "outputs": []
    },
    {
      "cell_type": "code",
      "metadata": {
        "id": "BC1CtpKsQoOl",
        "colab_type": "code",
        "colab": {}
      },
      "source": [
        "predictions = model.predict(test_data)"
      ],
      "execution_count": 0,
      "outputs": []
    },
    {
      "cell_type": "code",
      "metadata": {
        "id": "SQVFdXaTQuNK",
        "colab_type": "code",
        "colab": {}
      },
      "source": [
        "final_pred = np.argmax(predictions, axis=-1)"
      ],
      "execution_count": 0,
      "outputs": []
    },
    {
      "cell_type": "code",
      "metadata": {
        "id": "_GLYX3A8Q4Nb",
        "colab_type": "code",
        "colab": {}
      },
      "source": [
        "final_pred.shape"
      ],
      "execution_count": 0,
      "outputs": []
    },
    {
      "cell_type": "code",
      "metadata": {
        "id": "x5z3BJaZ9tpY",
        "colab_type": "code",
        "colab": {}
      },
      "source": [
        "from sklearn import metrics"
      ],
      "execution_count": 0,
      "outputs": []
    },
    {
      "cell_type": "code",
      "metadata": {
        "id": "v0ef9vroRQXQ",
        "colab_type": "code",
        "colab": {}
      },
      "source": [
        "\n",
        "matrix = metrics.confusion_matrix(test_labels.argmax(axis=1), final_pred)"
      ],
      "execution_count": 0,
      "outputs": []
    }
  ]
}