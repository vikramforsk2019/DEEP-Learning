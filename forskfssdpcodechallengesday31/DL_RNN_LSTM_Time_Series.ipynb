{
  "nbformat": 4,
  "nbformat_minor": 0,
  "metadata": {
    "colab": {
      "name": "DL_RNN_LSTM_Time_Series.ipynb",
      "version": "0.3.2",
      "provenance": [],
      "collapsed_sections": []
    },
    "kernelspec": {
      "name": "python3",
      "display_name": "Python 3"
    }
  },
  "cells": [
    {
      "cell_type": "code",
      "metadata": {
        "id": "MxWey2foda5J",
        "colab_type": "code",
        "colab": {}
      },
      "source": [
        "import numpy as np\n",
        "import matplotlib.pyplot as plt\n",
        "import pandas as pd\n"
      ],
      "execution_count": 0,
      "outputs": []
    },
    {
      "cell_type": "code",
      "metadata": {
        "id": "FwlbfY2dd_0T",
        "colab_type": "code",
        "outputId": "7e28e800-44c7-4b3c-cb53-45390c1f43bf",
        "colab": {
          "base_uri": "https://localhost:8080/",
          "height": 124
        }
      },
      "source": [
        "from google.colab import drive\n",
        "drive.mount('/content/drive')"
      ],
      "execution_count": 2,
      "outputs": [
        {
          "output_type": "stream",
          "text": [
            "Go to this URL in a browser: https://accounts.google.com/o/oauth2/auth?client_id=947318989803-6bn6qk8qdgf4n4g3pfee6491hc0brc4i.apps.googleusercontent.com&redirect_uri=urn%3Aietf%3Awg%3Aoauth%3A2.0%3Aoob&scope=email%20https%3A%2F%2Fwww.googleapis.com%2Fauth%2Fdocs.test%20https%3A%2F%2Fwww.googleapis.com%2Fauth%2Fdrive%20https%3A%2F%2Fwww.googleapis.com%2Fauth%2Fdrive.photos.readonly%20https%3A%2F%2Fwww.googleapis.com%2Fauth%2Fpeopleapi.readonly&response_type=code\n",
            "\n",
            "Enter your authorization code:\n",
            "··········\n",
            "Mounted at /content/drive\n"
          ],
          "name": "stdout"
        }
      ]
    },
    {
      "cell_type": "code",
      "metadata": {
        "id": "uzXw5xFgeT7o",
        "colab_type": "code",
        "colab": {}
      },
      "source": [
        "import os\n",
        "os.getcwd()\n",
        "os.chdir('/content/drive/My Drive/DL_RNN')"
      ],
      "execution_count": 0,
      "outputs": []
    },
    {
      "cell_type": "code",
      "metadata": {
        "id": "cyTJ3ZPQeguM",
        "colab_type": "code",
        "colab": {}
      },
      "source": [
        "apple_training_complete = pd.read_csv('apple_training.csv')  "
      ],
      "execution_count": 0,
      "outputs": []
    },
    {
      "cell_type": "code",
      "metadata": {
        "id": "e0L6fuj5eoeK",
        "colab_type": "code",
        "outputId": "c335086e-e5d2-4f5e-9cf6-f3534a6fb3bd",
        "colab": {
          "base_uri": "https://localhost:8080/",
          "height": 34
        }
      },
      "source": [
        "apple_training_complete.shape"
      ],
      "execution_count": 6,
      "outputs": [
        {
          "output_type": "execute_result",
          "data": {
            "text/plain": [
              "(1260, 7)"
            ]
          },
          "metadata": {
            "tags": []
          },
          "execution_count": 6
        }
      ]
    },
    {
      "cell_type": "code",
      "metadata": {
        "id": "iizgc5zGfZyg",
        "colab_type": "code",
        "colab": {}
      },
      "source": [
        "apple_training_processed = apple_training_complete.iloc[:, 1:2].values  \n"
      ],
      "execution_count": 0,
      "outputs": []
    },
    {
      "cell_type": "code",
      "metadata": {
        "id": "eaX6pAjOfmNf",
        "colab_type": "code",
        "outputId": "5b9b7cf2-5f00-4547-da11-60b7ad9695ed",
        "colab": {
          "base_uri": "https://localhost:8080/",
          "height": 34
        }
      },
      "source": [
        "apple_training_processed.shape"
      ],
      "execution_count": 8,
      "outputs": [
        {
          "output_type": "execute_result",
          "data": {
            "text/plain": [
              "(1260, 1)"
            ]
          },
          "metadata": {
            "tags": []
          },
          "execution_count": 8
        }
      ]
    },
    {
      "cell_type": "code",
      "metadata": {
        "id": "u8dctxhhfG_c",
        "colab_type": "code",
        "colab": {}
      },
      "source": [
        "from sklearn.preprocessing import MinMaxScaler  \n",
        "scaler = MinMaxScaler(feature_range = (0, 1))\n",
        "\n",
        "apple_training_scaled = scaler.fit_transform(apple_training_processed)  "
      ],
      "execution_count": 0,
      "outputs": []
    },
    {
      "cell_type": "code",
      "metadata": {
        "id": "ZzGtjExLe4jR",
        "colab_type": "code",
        "outputId": "15c11368-45a4-4923-b5cb-1a10aec8819a",
        "colab": {
          "base_uri": "https://localhost:8080/",
          "height": 34
        }
      },
      "source": [
        "apple_training_scaled.shape"
      ],
      "execution_count": 10,
      "outputs": [
        {
          "output_type": "execute_result",
          "data": {
            "text/plain": [
              "(1260, 1)"
            ]
          },
          "metadata": {
            "tags": []
          },
          "execution_count": 10
        }
      ]
    },
    {
      "cell_type": "code",
      "metadata": {
        "id": "0aVjP5xuQKo5",
        "colab_type": "code",
        "colab": {}
      },
      "source": [
        "apple_training_processed #data before scaling"
      ],
      "execution_count": 0,
      "outputs": []
    },
    {
      "cell_type": "code",
      "metadata": {
        "id": "bmxWsiE5XJ9R",
        "colab_type": "code",
        "colab": {}
      },
      "source": [
        "apple_training_scaled\n"
      ],
      "execution_count": 0,
      "outputs": []
    },
    {
      "cell_type": "code",
      "metadata": {
        "id": "5_XPJbZRfLfe",
        "colab_type": "code",
        "colab": {}
      },
      "source": [
        "features_set = []  \n",
        "labels = []  \n",
        "for i in range(60, 1260):  \n",
        "    features_set.append(apple_training_scaled[i-60:i,0])\n",
        "    labels.append(apple_training_scaled[i, 0])"
      ],
      "execution_count": 0,
      "outputs": []
    },
    {
      "cell_type": "code",
      "metadata": {
        "id": "4SwZ6eCafNU8",
        "colab_type": "code",
        "colab": {}
      },
      "source": [
        "features_set"
      ],
      "execution_count": 0,
      "outputs": []
    },
    {
      "cell_type": "code",
      "metadata": {
        "id": "ffOjhhCvgQkc",
        "colab_type": "code",
        "colab": {}
      },
      "source": [
        "features_set, labels = np.array(features_set), np.array(labels)  \n"
      ],
      "execution_count": 0,
      "outputs": []
    },
    {
      "cell_type": "code",
      "metadata": {
        "id": "sRxg39Nhgnx1",
        "colab_type": "code",
        "outputId": "e60946bb-2f4f-4a00-fe17-6522e1506cf6",
        "colab": {
          "base_uri": "https://localhost:8080/",
          "height": 34
        }
      },
      "source": [
        "features_set.shape"
      ],
      "execution_count": 17,
      "outputs": [
        {
          "output_type": "execute_result",
          "data": {
            "text/plain": [
              "(1200, 60)"
            ]
          },
          "metadata": {
            "tags": []
          },
          "execution_count": 17
        }
      ]
    },
    {
      "cell_type": "code",
      "metadata": {
        "id": "Th88cuH0gcsm",
        "colab_type": "code",
        "colab": {}
      },
      "source": [
        "features_set = np.reshape(features_set, (features_set.shape[0], features_set.shape[1], 1))  \n"
      ],
      "execution_count": 0,
      "outputs": []
    },
    {
      "cell_type": "code",
      "metadata": {
        "id": "7R1Edw_ahOTJ",
        "colab_type": "code",
        "outputId": "de84cd19-de81-4f0c-bc47-87ff91cd1520",
        "colab": {
          "base_uri": "https://localhost:8080/",
          "height": 34
        }
      },
      "source": [
        "features_set.shape"
      ],
      "execution_count": 21,
      "outputs": [
        {
          "output_type": "execute_result",
          "data": {
            "text/plain": [
              "(1200, 60, 1)"
            ]
          },
          "metadata": {
            "tags": []
          },
          "execution_count": 21
        }
      ]
    },
    {
      "cell_type": "code",
      "metadata": {
        "id": "8nu_S_6xhQST",
        "colab_type": "code",
        "outputId": "429a7cd2-7942-4e7a-fb49-8bbf121eda54",
        "colab": {
          "base_uri": "https://localhost:8080/",
          "height": 34
        }
      },
      "source": [
        "from keras.models import Sequential  \n",
        "from keras.layers import Dense  \n",
        "from keras.layers import LSTM  \n",
        "from keras.layers import Dropout"
      ],
      "execution_count": 22,
      "outputs": [
        {
          "output_type": "stream",
          "text": [
            "Using TensorFlow backend.\n"
          ],
          "name": "stderr"
        }
      ]
    },
    {
      "cell_type": "code",
      "metadata": {
        "id": "s4BRpjTmhYy5",
        "colab_type": "code",
        "colab": {
          "base_uri": "https://localhost:8080/",
          "height": 89
        },
        "outputId": "e93f16b6-5985-43a3-9b59-908d38c5e4cd"
      },
      "source": [
        "model = Sequential()"
      ],
      "execution_count": 23,
      "outputs": [
        {
          "output_type": "stream",
          "text": [
            "WARNING: Logging before flag parsing goes to stderr.\n",
            "W0616 03:07:49.681135 140603420800896 deprecation_wrapper.py:119] From /usr/local/lib/python3.6/dist-packages/keras/backend/tensorflow_backend.py:74: The name tf.get_default_graph is deprecated. Please use tf.compat.v1.get_default_graph instead.\n",
            "\n"
          ],
          "name": "stderr"
        }
      ]
    },
    {
      "cell_type": "code",
      "metadata": {
        "id": "0nD2Xa-vhfHd",
        "colab_type": "code",
        "colab": {}
      },
      "source": [
        "model.add(LSTM(units=50, return_sequences=True, input_shape=(features_set.shape[1], 1)))  \n"
      ],
      "execution_count": 0,
      "outputs": []
    },
    {
      "cell_type": "code",
      "metadata": {
        "id": "iy1crnN3hj9B",
        "colab_type": "code",
        "colab": {}
      },
      "source": [
        "model.add(Dropout(0.2))  \n"
      ],
      "execution_count": 0,
      "outputs": []
    },
    {
      "cell_type": "code",
      "metadata": {
        "id": "NYAv0eD_kMVB",
        "colab_type": "code",
        "colab": {}
      },
      "source": [
        "model.summary()"
      ],
      "execution_count": 0,
      "outputs": []
    },
    {
      "cell_type": "code",
      "metadata": {
        "id": "tNJIQw3ghoP6",
        "colab_type": "code",
        "colab": {}
      },
      "source": [
        "model.add(LSTM(units=50, return_sequences=True))  \n",
        "model.add(Dropout(0.2))\n",
        "\n",
        "model.add(LSTM(units=50, return_sequences=True))  \n",
        "model.add(Dropout(0.2))\n",
        "\n",
        "model.add(LSTM(units=50))  \n",
        "model.add(Dropout(0.2))  "
      ],
      "execution_count": 0,
      "outputs": []
    },
    {
      "cell_type": "code",
      "metadata": {
        "id": "iWKoSnIYjYvU",
        "colab_type": "code",
        "colab": {}
      },
      "source": [
        "model.summary()"
      ],
      "execution_count": 0,
      "outputs": []
    },
    {
      "cell_type": "code",
      "metadata": {
        "id": "qIh04paNhrSo",
        "colab_type": "code",
        "colab": {}
      },
      "source": [
        "model.add(Dense(units = 1))  \n"
      ],
      "execution_count": 0,
      "outputs": []
    },
    {
      "cell_type": "code",
      "metadata": {
        "id": "Z_9vFnLMhuIc",
        "colab_type": "code",
        "colab": {}
      },
      "source": [
        "model.compile(optimizer = 'adam', loss = 'mean_squared_error')  \n"
      ],
      "execution_count": 0,
      "outputs": []
    },
    {
      "cell_type": "code",
      "metadata": {
        "id": "n3YgT4Uqhylh",
        "colab_type": "code",
        "outputId": "6108ca17-80c8-47da-d203-c5897c83a175",
        "colab": {
          "base_uri": "https://localhost:8080/",
          "height": 3615
        }
      },
      "source": [
        "model.fit(features_set, labels, epochs = 100, batch_size = 32)  \n"
      ],
      "execution_count": 29,
      "outputs": [
        {
          "output_type": "stream",
          "text": [
            "W0616 03:08:53.472146 140603420800896 deprecation.py:323] From /usr/local/lib/python3.6/dist-packages/tensorflow/python/ops/math_grad.py:1250: add_dispatch_support.<locals>.wrapper (from tensorflow.python.ops.array_ops) is deprecated and will be removed in a future version.\n",
            "Instructions for updating:\n",
            "Use tf.where in 2.0, which has the same broadcast rule as np.where\n",
            "W0616 03:08:56.097819 140603420800896 deprecation_wrapper.py:119] From /usr/local/lib/python3.6/dist-packages/keras/backend/tensorflow_backend.py:986: The name tf.assign_add is deprecated. Please use tf.compat.v1.assign_add instead.\n",
            "\n"
          ],
          "name": "stderr"
        },
        {
          "output_type": "stream",
          "text": [
            "Epoch 1/100\n",
            "1200/1200 [==============================] - 9s 7ms/step - loss: 0.0405\n",
            "Epoch 2/100\n",
            "1200/1200 [==============================] - 6s 5ms/step - loss: 0.0053\n",
            "Epoch 3/100\n",
            "1200/1200 [==============================] - 6s 5ms/step - loss: 0.0055\n",
            "Epoch 4/100\n",
            "1200/1200 [==============================] - 6s 5ms/step - loss: 0.0047\n",
            "Epoch 5/100\n",
            "1200/1200 [==============================] - 6s 5ms/step - loss: 0.0041\n",
            "Epoch 6/100\n",
            "1200/1200 [==============================] - 6s 5ms/step - loss: 0.0039\n",
            "Epoch 7/100\n",
            "1200/1200 [==============================] - 6s 5ms/step - loss: 0.0039\n",
            "Epoch 8/100\n",
            "1200/1200 [==============================] - 6s 5ms/step - loss: 0.0036\n",
            "Epoch 9/100\n",
            "1200/1200 [==============================] - 6s 5ms/step - loss: 0.0036\n",
            "Epoch 10/100\n",
            "1200/1200 [==============================] - 6s 5ms/step - loss: 0.0036\n",
            "Epoch 11/100\n",
            "1200/1200 [==============================] - 6s 5ms/step - loss: 0.0036\n",
            "Epoch 12/100\n",
            "1200/1200 [==============================] - 6s 5ms/step - loss: 0.0038\n",
            "Epoch 13/100\n",
            "1200/1200 [==============================] - 6s 5ms/step - loss: 0.0040\n",
            "Epoch 14/100\n",
            "1200/1200 [==============================] - 6s 5ms/step - loss: 0.0033\n",
            "Epoch 15/100\n",
            "1200/1200 [==============================] - 6s 5ms/step - loss: 0.0031\n",
            "Epoch 16/100\n",
            "1200/1200 [==============================] - 6s 5ms/step - loss: 0.0034\n",
            "Epoch 17/100\n",
            "1200/1200 [==============================] - 6s 5ms/step - loss: 0.0031\n",
            "Epoch 18/100\n",
            "1200/1200 [==============================] - 6s 5ms/step - loss: 0.0027\n",
            "Epoch 19/100\n",
            "1200/1200 [==============================] - 6s 5ms/step - loss: 0.0028\n",
            "Epoch 20/100\n",
            "1200/1200 [==============================] - 6s 5ms/step - loss: 0.0027\n",
            "Epoch 21/100\n",
            "1200/1200 [==============================] - 6s 5ms/step - loss: 0.0031\n",
            "Epoch 22/100\n",
            "1200/1200 [==============================] - 6s 5ms/step - loss: 0.0027\n",
            "Epoch 23/100\n",
            "1200/1200 [==============================] - 6s 5ms/step - loss: 0.0024\n",
            "Epoch 24/100\n",
            "1200/1200 [==============================] - 6s 5ms/step - loss: 0.0023\n",
            "Epoch 25/100\n",
            "1200/1200 [==============================] - 6s 5ms/step - loss: 0.0024\n",
            "Epoch 26/100\n",
            "1200/1200 [==============================] - 6s 5ms/step - loss: 0.0025\n",
            "Epoch 27/100\n",
            "1200/1200 [==============================] - 6s 5ms/step - loss: 0.0027\n",
            "Epoch 28/100\n",
            "1200/1200 [==============================] - 6s 5ms/step - loss: 0.0020\n",
            "Epoch 29/100\n",
            "1200/1200 [==============================] - 6s 5ms/step - loss: 0.0026\n",
            "Epoch 30/100\n",
            "1200/1200 [==============================] - 6s 5ms/step - loss: 0.0024\n",
            "Epoch 31/100\n",
            "1200/1200 [==============================] - 6s 5ms/step - loss: 0.0026\n",
            "Epoch 32/100\n",
            "1200/1200 [==============================] - 6s 5ms/step - loss: 0.0022\n",
            "Epoch 33/100\n",
            "1200/1200 [==============================] - 6s 5ms/step - loss: 0.0023\n",
            "Epoch 34/100\n",
            "1200/1200 [==============================] - 6s 5ms/step - loss: 0.0023\n",
            "Epoch 35/100\n",
            "1200/1200 [==============================] - 6s 5ms/step - loss: 0.0022\n",
            "Epoch 36/100\n",
            "1200/1200 [==============================] - 6s 5ms/step - loss: 0.0020\n",
            "Epoch 37/100\n",
            "1200/1200 [==============================] - 6s 5ms/step - loss: 0.0021\n",
            "Epoch 38/100\n",
            "1200/1200 [==============================] - 6s 5ms/step - loss: 0.0020\n",
            "Epoch 39/100\n",
            "1200/1200 [==============================] - 6s 5ms/step - loss: 0.0022\n",
            "Epoch 40/100\n",
            "1200/1200 [==============================] - 6s 5ms/step - loss: 0.0022\n",
            "Epoch 41/100\n",
            "1200/1200 [==============================] - 6s 5ms/step - loss: 0.0021\n",
            "Epoch 42/100\n",
            "1200/1200 [==============================] - 6s 5ms/step - loss: 0.0019\n",
            "Epoch 43/100\n",
            "1200/1200 [==============================] - 6s 5ms/step - loss: 0.0018\n",
            "Epoch 44/100\n",
            "1200/1200 [==============================] - 6s 5ms/step - loss: 0.0023\n",
            "Epoch 45/100\n",
            "1200/1200 [==============================] - 6s 5ms/step - loss: 0.0019\n",
            "Epoch 46/100\n",
            "1200/1200 [==============================] - 6s 5ms/step - loss: 0.0019\n",
            "Epoch 47/100\n",
            "1200/1200 [==============================] - 6s 5ms/step - loss: 0.0019\n",
            "Epoch 48/100\n",
            "1200/1200 [==============================] - 6s 5ms/step - loss: 0.0018\n",
            "Epoch 49/100\n",
            "1200/1200 [==============================] - 6s 5ms/step - loss: 0.0017\n",
            "Epoch 50/100\n",
            "1200/1200 [==============================] - 6s 5ms/step - loss: 0.0018\n",
            "Epoch 51/100\n",
            "1200/1200 [==============================] - 6s 5ms/step - loss: 0.0018\n",
            "Epoch 52/100\n",
            "1200/1200 [==============================] - 6s 5ms/step - loss: 0.0018\n",
            "Epoch 53/100\n",
            "1200/1200 [==============================] - 6s 5ms/step - loss: 0.0017\n",
            "Epoch 54/100\n",
            "1200/1200 [==============================] - 6s 5ms/step - loss: 0.0017\n",
            "Epoch 55/100\n",
            "1200/1200 [==============================] - 6s 5ms/step - loss: 0.0019\n",
            "Epoch 56/100\n",
            "1200/1200 [==============================] - 6s 5ms/step - loss: 0.0017\n",
            "Epoch 57/100\n",
            "1200/1200 [==============================] - 6s 5ms/step - loss: 0.0017\n",
            "Epoch 58/100\n",
            "1200/1200 [==============================] - 6s 5ms/step - loss: 0.0016\n",
            "Epoch 59/100\n",
            "1200/1200 [==============================] - 6s 5ms/step - loss: 0.0016\n",
            "Epoch 60/100\n",
            "1200/1200 [==============================] - 6s 5ms/step - loss: 0.0016\n",
            "Epoch 61/100\n",
            "1200/1200 [==============================] - 6s 5ms/step - loss: 0.0018\n",
            "Epoch 62/100\n",
            "1200/1200 [==============================] - 6s 5ms/step - loss: 0.0016\n",
            "Epoch 63/100\n",
            "1200/1200 [==============================] - 6s 5ms/step - loss: 0.0017\n",
            "Epoch 64/100\n",
            "1200/1200 [==============================] - 6s 5ms/step - loss: 0.0014\n",
            "Epoch 65/100\n",
            "1200/1200 [==============================] - 6s 5ms/step - loss: 0.0015\n",
            "Epoch 66/100\n",
            "1200/1200 [==============================] - 6s 5ms/step - loss: 0.0015\n",
            "Epoch 67/100\n",
            "1200/1200 [==============================] - 6s 5ms/step - loss: 0.0014\n",
            "Epoch 68/100\n",
            "1200/1200 [==============================] - 6s 5ms/step - loss: 0.0014\n",
            "Epoch 69/100\n",
            "1200/1200 [==============================] - 6s 5ms/step - loss: 0.0015\n",
            "Epoch 70/100\n",
            "1200/1200 [==============================] - 6s 5ms/step - loss: 0.0013\n",
            "Epoch 71/100\n",
            "1200/1200 [==============================] - 6s 5ms/step - loss: 0.0015\n",
            "Epoch 72/100\n",
            "1200/1200 [==============================] - 6s 5ms/step - loss: 0.0014\n",
            "Epoch 73/100\n",
            "1200/1200 [==============================] - 6s 5ms/step - loss: 0.0013\n",
            "Epoch 74/100\n",
            "1200/1200 [==============================] - 6s 5ms/step - loss: 0.0018\n",
            "Epoch 75/100\n",
            "1200/1200 [==============================] - 6s 5ms/step - loss: 0.0014\n",
            "Epoch 76/100\n",
            "1200/1200 [==============================] - 6s 5ms/step - loss: 0.0014\n",
            "Epoch 77/100\n",
            "1200/1200 [==============================] - 6s 5ms/step - loss: 0.0015\n",
            "Epoch 78/100\n",
            "1200/1200 [==============================] - 6s 5ms/step - loss: 0.0013\n",
            "Epoch 79/100\n",
            "1200/1200 [==============================] - 6s 5ms/step - loss: 0.0013\n",
            "Epoch 80/100\n",
            "1200/1200 [==============================] - 6s 5ms/step - loss: 0.0012\n",
            "Epoch 81/100\n",
            "1200/1200 [==============================] - 6s 5ms/step - loss: 0.0013\n",
            "Epoch 82/100\n",
            "1200/1200 [==============================] - 6s 5ms/step - loss: 0.0014\n",
            "Epoch 83/100\n",
            "1200/1200 [==============================] - 6s 5ms/step - loss: 0.0012\n",
            "Epoch 84/100\n",
            "1200/1200 [==============================] - 6s 5ms/step - loss: 0.0013\n",
            "Epoch 85/100\n",
            "1200/1200 [==============================] - 6s 5ms/step - loss: 0.0013\n",
            "Epoch 86/100\n",
            "1200/1200 [==============================] - 6s 5ms/step - loss: 0.0013\n",
            "Epoch 87/100\n",
            "1200/1200 [==============================] - 6s 5ms/step - loss: 0.0012\n",
            "Epoch 88/100\n",
            "1200/1200 [==============================] - 6s 5ms/step - loss: 0.0013\n",
            "Epoch 89/100\n",
            "1200/1200 [==============================] - 6s 5ms/step - loss: 0.0012\n",
            "Epoch 90/100\n",
            "1200/1200 [==============================] - 6s 5ms/step - loss: 0.0012\n",
            "Epoch 91/100\n",
            "1200/1200 [==============================] - 6s 5ms/step - loss: 0.0012\n",
            "Epoch 92/100\n",
            "1200/1200 [==============================] - 6s 5ms/step - loss: 0.0012\n",
            "Epoch 93/100\n",
            "1200/1200 [==============================] - 6s 5ms/step - loss: 0.0012\n",
            "Epoch 94/100\n",
            "1200/1200 [==============================] - 6s 5ms/step - loss: 0.0013\n",
            "Epoch 95/100\n",
            "1200/1200 [==============================] - 6s 5ms/step - loss: 0.0012\n",
            "Epoch 96/100\n",
            "1200/1200 [==============================] - 6s 5ms/step - loss: 0.0011\n",
            "Epoch 97/100\n",
            "1200/1200 [==============================] - 6s 5ms/step - loss: 0.0011\n",
            "Epoch 98/100\n",
            "1200/1200 [==============================] - 6s 5ms/step - loss: 0.0011\n",
            "Epoch 99/100\n",
            "1200/1200 [==============================] - 6s 5ms/step - loss: 0.0012\n",
            "Epoch 100/100\n",
            "1200/1200 [==============================] - 6s 5ms/step - loss: 0.0012\n"
          ],
          "name": "stdout"
        },
        {
          "output_type": "execute_result",
          "data": {
            "text/plain": [
              "<keras.callbacks.History at 0x7fe0890afdd8>"
            ]
          },
          "metadata": {
            "tags": []
          },
          "execution_count": 29
        }
      ]
    },
    {
      "cell_type": "markdown",
      "metadata": {
        "id": "iJTWQdxuXEY1",
        "colab_type": "text"
      },
      "source": [
        "# Testing the LSTM"
      ]
    },
    {
      "cell_type": "code",
      "metadata": {
        "id": "Lk5wMBUfW495",
        "colab_type": "code",
        "colab": {}
      },
      "source": [
        "apple_testing_complete = pd.read_csv('apple_testing.csv')  \n",
        "apple_testing_processed = apple_testing_complete.iloc[:, 1:2].values  "
      ],
      "execution_count": 0,
      "outputs": []
    },
    {
      "cell_type": "code",
      "metadata": {
        "id": "S28nMSCczQWo",
        "colab_type": "code",
        "outputId": "6119e74e-aa0f-4c83-d37a-425f2e1c6fbc",
        "colab": {
          "base_uri": "https://localhost:8080/",
          "height": 34
        }
      },
      "source": [
        "apple_testing_processed.shape"
      ],
      "execution_count": 31,
      "outputs": [
        {
          "output_type": "execute_result",
          "data": {
            "text/plain": [
              "(20, 1)"
            ]
          },
          "metadata": {
            "tags": []
          },
          "execution_count": 31
        }
      ]
    },
    {
      "cell_type": "markdown",
      "metadata": {
        "id": "cX1-DXGGXghU",
        "colab_type": "text"
      },
      "source": [
        "Converting test data into right format\n",
        "For each day of January 2018, we want our feature set to contain the opening stock prices for the previous 60 days. For the 1st of January, we need the stock prices for the previous 60 days. To do so, we need to concatenate our training data and test data before preprocessing"
      ]
    },
    {
      "cell_type": "code",
      "metadata": {
        "id": "g4Mi495CXjUU",
        "colab_type": "code",
        "colab": {}
      },
      "source": [
        "apple_total = pd.concat((apple_training_complete['Open'], apple_testing_complete['Open']), axis=0)\n"
      ],
      "execution_count": 0,
      "outputs": []
    },
    {
      "cell_type": "code",
      "metadata": {
        "id": "NQKhLs6mzb6Y",
        "colab_type": "code",
        "outputId": "20bc30db-db6c-4b90-8faf-7c9ce9346d2b",
        "colab": {
          "base_uri": "https://localhost:8080/",
          "height": 34
        }
      },
      "source": [
        "apple_total.shape"
      ],
      "execution_count": 33,
      "outputs": [
        {
          "output_type": "execute_result",
          "data": {
            "text/plain": [
              "(1280,)"
            ]
          },
          "metadata": {
            "tags": []
          },
          "execution_count": 33
        }
      ]
    },
    {
      "cell_type": "markdown",
      "metadata": {
        "id": "17VCG37wYO62",
        "colab_type": "text"
      },
      "source": [
        "Now let's prepare our test inputs. The input for each day should contain the opening stock prices for the previous 60 days. That means we need opening stock prices for the 20 test days for the month of January 2018 and the 60 stock prices from the last 60 days for the training set."
      ]
    },
    {
      "cell_type": "code",
      "metadata": {
        "id": "lFJ8Kf_MXyX_",
        "colab_type": "code",
        "colab": {}
      },
      "source": [
        "test_inputs = apple_total[len(apple_total) - len(apple_testing_complete) - 60:].values "
      ],
      "execution_count": 0,
      "outputs": []
    },
    {
      "cell_type": "code",
      "metadata": {
        "id": "rg8N3M1i0D-D",
        "colab_type": "code",
        "outputId": "793c085a-a800-4c20-f783-23cb85ec646f",
        "colab": {
          "base_uri": "https://localhost:8080/",
          "height": 34
        }
      },
      "source": [
        "test_inputs.shape"
      ],
      "execution_count": 35,
      "outputs": [
        {
          "output_type": "execute_result",
          "data": {
            "text/plain": [
              "(80,)"
            ]
          },
          "metadata": {
            "tags": []
          },
          "execution_count": 35
        }
      ]
    },
    {
      "cell_type": "markdown",
      "metadata": {
        "id": "XWZ8jYMkYUjS",
        "colab_type": "text"
      },
      "source": [
        "Scale our test data as we did in train data"
      ]
    },
    {
      "cell_type": "code",
      "metadata": {
        "id": "hc7eiXB90cVb",
        "colab_type": "code",
        "colab": {}
      },
      "source": [
        "test_inputs = test_inputs.reshape(-1,1) "
      ],
      "execution_count": 0,
      "outputs": []
    },
    {
      "cell_type": "code",
      "metadata": {
        "id": "F_knQmSA0eEW",
        "colab_type": "code",
        "outputId": "fbd7eb63-5edc-4cbe-f1f7-d3e5bdcc2701",
        "colab": {
          "base_uri": "https://localhost:8080/",
          "height": 34
        }
      },
      "source": [
        "test_inputs.shape"
      ],
      "execution_count": 37,
      "outputs": [
        {
          "output_type": "execute_result",
          "data": {
            "text/plain": [
              "(80, 1)"
            ]
          },
          "metadata": {
            "tags": []
          },
          "execution_count": 37
        }
      ]
    },
    {
      "cell_type": "code",
      "metadata": {
        "id": "Hcc3dvb40eA6",
        "colab_type": "code",
        "colab": {}
      },
      "source": [
        ""
      ],
      "execution_count": 0,
      "outputs": []
    },
    {
      "cell_type": "code",
      "metadata": {
        "id": "UzhHSFkiYPuc",
        "colab_type": "code",
        "colab": {}
      },
      "source": [
        " \n",
        "test_inputs = scaler.transform(test_inputs)  "
      ],
      "execution_count": 0,
      "outputs": []
    },
    {
      "cell_type": "code",
      "metadata": {
        "id": "-t9So88q0nqm",
        "colab_type": "code",
        "colab": {}
      },
      "source": [
        "test_inputs[0]"
      ],
      "execution_count": 0,
      "outputs": []
    },
    {
      "cell_type": "code",
      "metadata": {
        "id": "604uBn0jYD79",
        "colab_type": "code",
        "colab": {}
      },
      "source": [
        "test_features = []  \n",
        "for i in range(60, 80):  \n",
        "    test_features.append(test_inputs[i-60:i, 0])\n"
      ],
      "execution_count": 0,
      "outputs": []
    },
    {
      "cell_type": "code",
      "metadata": {
        "id": "zJM9YEyB1pWt",
        "colab_type": "code",
        "colab": {}
      },
      "source": [
        "test_features = np.array(test_features) "
      ],
      "execution_count": 0,
      "outputs": []
    },
    {
      "cell_type": "code",
      "metadata": {
        "id": "6Xr_NB0_1rIA",
        "colab_type": "code",
        "outputId": "b27be7ad-2096-4353-ecd4-ea87b22fcd42",
        "colab": {
          "base_uri": "https://localhost:8080/",
          "height": 34
        }
      },
      "source": [
        "test_features.shape"
      ],
      "execution_count": 41,
      "outputs": [
        {
          "output_type": "execute_result",
          "data": {
            "text/plain": [
              "(20, 60)"
            ]
          },
          "metadata": {
            "tags": []
          },
          "execution_count": 41
        }
      ]
    },
    {
      "cell_type": "code",
      "metadata": {
        "id": "B7hbFs7MYhG1",
        "colab_type": "code",
        "colab": {}
      },
      "source": [
        " \n",
        "test_features = np.reshape(test_features, (test_features.shape[0], test_features.shape[1], 1))  "
      ],
      "execution_count": 0,
      "outputs": []
    },
    {
      "cell_type": "code",
      "metadata": {
        "id": "hTjiSLXD1xid",
        "colab_type": "code",
        "colab": {}
      },
      "source": [
        "test_features.shape"
      ],
      "execution_count": 0,
      "outputs": []
    },
    {
      "cell_type": "code",
      "metadata": {
        "id": "od9zWWppYoXu",
        "colab_type": "code",
        "colab": {}
      },
      "source": [
        "predictions = model.predict(test_features)  "
      ],
      "execution_count": 0,
      "outputs": []
    },
    {
      "cell_type": "markdown",
      "metadata": {
        "id": "IaD0nHYlYuWH",
        "colab_type": "text"
      },
      "source": [
        "Since we scaled our data, the predictions made by the LSTM are also scaled. We need to reverse the scaled prediction back to their actual values. To do so, we can use the ìnverse_transform method of the scaler object we created during training."
      ]
    },
    {
      "cell_type": "code",
      "metadata": {
        "id": "ct4cl0RB21px",
        "colab_type": "code",
        "colab": {}
      },
      "source": [
        ""
      ],
      "execution_count": 0,
      "outputs": []
    },
    {
      "cell_type": "code",
      "metadata": {
        "id": "GF75083hYpZ0",
        "colab_type": "code",
        "colab": {}
      },
      "source": [
        "predictions = scaler.inverse_transform(predictions)"
      ],
      "execution_count": 0,
      "outputs": []
    },
    {
      "cell_type": "code",
      "metadata": {
        "id": "roMLw62ZYyx3",
        "colab_type": "code",
        "outputId": "751ea6ec-5143-46c8-c24e-37b829da1977",
        "colab": {
          "base_uri": "https://localhost:8080/",
          "height": 404
        }
      },
      "source": [
        "plt.figure(figsize=(10,6))  \n",
        "plt.plot(apple_testing_processed, color='blue', label='Actual Apple Stock Price')  \n",
        "plt.plot(predictions , color='red', label='Predicted Apple Stock Price')  \n",
        "plt.title('Apple Stock Price Prediction')  \n",
        "plt.xlabel('Date')  \n",
        "plt.ylabel('Apple Stock Price')  \n",
        "plt.legend()  \n",
        "plt.show()  "
      ],
      "execution_count": 45,
      "outputs": [
        {
          "output_type": "display_data",
          "data": {
            "image/png": "[encoded data removed]",
            "text/plain": [
              "<Figure size 720x432 with 1 Axes>"
            ]
          },
          "metadata": {
            "tags": []
          }
        }
      ]
    },
    {
      "cell_type": "markdown",
      "metadata": {
        "id": "ovZtpxKuZAhy",
        "colab_type": "text"
      },
      "source": [
        "Conclusion\n",
        "A long short-term memory network (LSTM) is one of the most commonly used neural networks for time series analysis. The ability of LSTM to remember previous information makes it ideal for such tasks. In this article, we saw how we can use LSTM for the Apple stock price prediction."
      ]
    }
  ]
}